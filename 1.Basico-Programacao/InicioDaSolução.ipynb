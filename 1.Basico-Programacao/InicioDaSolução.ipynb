{
 "cells": [
  {
   "cell_type": "code",
   "execution_count": 1,
   "metadata": {},
   "outputs": [],
   "source": [
    "import pandas as pd\n",
    "\n",
    "# 1. Criação do DataFrame\n",
    "dados = {\n",
    "    'Nome': ['Ana', 'Bruno', 'Carla', 'Diego', 'Elisa'],\n",
    "    'Idade': [45, 50, 37, 60, 29],\n",
    "    'Peso': [70, 85, 60, 90, 72],\n",
    "    'Altura': [1.65, 1.78, 1.60, 1.75, 1.68],\n",
    "    'Pressão Sistólica': [140, 130, 120, 150, 110],\n",
    "    'Diagnóstico': ['Hipertensão', 'Normal', 'Normal', 'Hipertensão', 'Normal'],\n",
    "    'Colesterol': [200, 180, 220, 210, 190]\n",
    "}\n",
    "\n",
    "df = pd.DataFrame(dados)\n",
    "\n",
    "# 2. Filtrar pacientes com hipertensão\n",
    "df_hipertensos = df[df['Diagnóstico'] == 'Hipertensão']\n"
   ]
  }
 ],
 "metadata": {
  "kernelspec": {
   "display_name": "myenv",
   "language": "python",
   "name": "python3"
  },
  "language_info": {
   "codemirror_mode": {
    "name": "ipython",
    "version": 3
   },
   "file_extension": ".py",
   "mimetype": "text/x-python",
   "name": "python",
   "nbconvert_exporter": "python",
   "pygments_lexer": "ipython3",
   "version": "3.11.9"
  }
 },
 "nbformat": 4,
 "nbformat_minor": 2
}
