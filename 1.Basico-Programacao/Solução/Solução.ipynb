{
 "cells": [
  {
   "cell_type": "markdown",
   "metadata": {},
   "source": [
    "# Solução da Tarefa 1"
   ]
  },
  {
   "cell_type": "code",
   "execution_count": 1,
   "metadata": {},
   "outputs": [],
   "source": [
    "import pandas as pd"
   ]
  },
  {
   "cell_type": "code",
   "execution_count": 2,
   "metadata": {},
   "outputs": [],
   "source": [
    "# 1. Criação do DataFrame\n",
    "dados = {\n",
    "    'Nome': ['Ana', 'Bruno', 'Carla', 'Diego', 'Elisa'],\n",
    "    'Idade': [45, 50, 37, 60, 29],\n",
    "    'Peso': [70, 85, 60, 90, 72],\n",
    "    'Altura': [1.65, 1.78, 1.60, 1.75, 1.68],\n",
    "    'Pressão Sistólica': [140, 130, 120, 150, 110],\n",
    "    'Diagnóstico': ['Hipertensão', 'Normal', 'Normal', 'Hipertensão', 'Normal'],\n",
    "    'Colesterol': [200, 180, 220, 210, 190]\n",
    "}\n",
    "\n",
    "df = pd.DataFrame(dados)"
   ]
  },
  {
   "cell_type": "code",
   "execution_count": 3,
   "metadata": {},
   "outputs": [],
   "source": [
    "# 2. Criar coluna de IMC\n",
    "df['IMC'] = df['Peso'] / df['Altura'] ** 2"
   ]
  },
  {
   "cell_type": "code",
   "execution_count": 4,
   "metadata": {},
   "outputs": [],
   "source": [
    "# Filtrar pacientes com Hipertensão\n",
    "hipertensos_df = df[df['Diagnóstico'] == 'Hipertensão']"
   ]
  },
  {
   "cell_type": "code",
   "execution_count": 5,
   "metadata": {},
   "outputs": [],
   "source": [
    "# 3. Calcular a média do IMC dos pacientes com hipertensão\n",
    "media_imc_hipertensos = hipertensos_df['IMC'].mean()"
   ]
  },
  {
   "cell_type": "code",
   "execution_count": 6,
   "metadata": {},
   "outputs": [],
   "source": [
    "# Somar os níveis de colesterol de todos os pacientes\n",
    "soma_colesterol = df['Colesterol'].sum()"
   ]
  },
  {
   "cell_type": "code",
   "execution_count": 7,
   "metadata": {},
   "outputs": [
    {
     "name": "stdout",
     "output_type": "stream",
     "text": [
      "    Nome  Idade  Peso  Altura  Pressão Sistólica  Diagnóstico  Colesterol  \\\n",
      "0    Ana     45    70    1.65                140  Hipertensão         200   \n",
      "1  Bruno     50    85    1.78                130       Normal         180   \n",
      "2  Carla     37    60    1.60                120       Normal         220   \n",
      "3  Diego     60    90    1.75                150  Hipertensão         210   \n",
      "4  Elisa     29    72    1.68                110       Normal         190   \n",
      "\n",
      "         IMC  \n",
      "0  25.711662  \n",
      "1  26.827421  \n",
      "2  23.437500  \n",
      "3  29.387755  \n",
      "4  25.510204  \n",
      "Média do IMC dos pacientes com hipertensão: 27.55\n",
      "Soma dos níveis de colesterol de todos os pacientes: 1000\n"
     ]
    }
   ],
   "source": [
    "# Exibir os resultados\n",
    "print(df)\n",
    "print(f\"Média do IMC dos pacientes com hipertensão: {media_imc_hipertensos:.2f}\")\n",
    "print(f\"Soma dos níveis de colesterol de todos os pacientes: {soma_colesterol}\")"
   ]
  }
 ],
 "metadata": {
  "kernelspec": {
   "display_name": "myenv",
   "language": "python",
   "name": "python3"
  },
  "language_info": {
   "codemirror_mode": {
    "name": "ipython",
    "version": 3
   },
   "file_extension": ".py",
   "mimetype": "text/x-python",
   "name": "python",
   "nbconvert_exporter": "python",
   "pygments_lexer": "ipython3",
   "version": "3.11.9"
  }
 },
 "nbformat": 4,
 "nbformat_minor": 2
}
