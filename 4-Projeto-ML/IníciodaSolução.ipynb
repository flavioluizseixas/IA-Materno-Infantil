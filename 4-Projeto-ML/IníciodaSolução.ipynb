{
 "cells": [
  {
   "cell_type": "code",
   "execution_count": 15,
   "metadata": {},
   "outputs": [],
   "source": [
    "from sklearn.preprocessing import MinMaxScaler\n",
    "from sklearn.model_selection import GridSearchCV\n",
    "from sklearn.model_selection import cross_val_score\n",
    "from sklearn.ensemble import RandomForestClassifier\n",
    "from sklearn.tree import DecisionTreeClassifier\n",
    "from sklearn.svm import SVC\n",
    "from sklearn.linear_model import LogisticRegression\n",
    "from sklearn.model_selection import train_test_split\n",
    "from sklearn.metrics import accuracy_score, classification_report\n",
    "\n",
    "from sklearn.metrics import confusion_matrix\n",
    "import seaborn as sns\n",
    "import matplotlib.pyplot as plt\n",
    "import pandas as pd\n",
    "\n",
    "from sklearn import tree\n",
    "import graphviz \n",
    "\n",
    "import statsmodels.api as sm"
   ]
  },
  {
   "cell_type": "code",
   "execution_count": 16,
   "metadata": {},
   "outputs": [],
   "source": [
    "# Leitura do Dataset\n",
    "df = pd.read_csv('data/heart.csv')\n",
    "\n",
    "# Definir X como todas as colunas, exceto a coluna 'target'\n",
    "X = df.drop(columns=['target'])\n",
    "features = X.columns\n",
    "\n",
    "# Se você também precisar de y, que é a coluna 'target', você pode fazer:\n",
    "y = df['target']"
   ]
  },
  {
   "cell_type": "code",
   "execution_count": 17,
   "metadata": {},
   "outputs": [],
   "source": [
    "# Rescale the data\n",
    "scaler = MinMaxScaler(feature_range=(0,1))\n",
    "X = scaler.fit_transform(X)"
   ]
  },
  {
   "cell_type": "code",
   "execution_count": 18,
   "metadata": {},
   "outputs": [
    {
     "data": {
      "text/plain": [
       "target\n",
       "1    526\n",
       "0    499\n",
       "Name: count, dtype: int64"
      ]
     },
     "execution_count": 18,
     "metadata": {},
     "output_type": "execute_result"
    }
   ],
   "source": [
    "y.value_counts()"
   ]
  },
  {
   "cell_type": "code",
   "execution_count": 19,
   "metadata": {},
   "outputs": [],
   "source": [
    "# Dividir os dados em conjuntos de treinamento e teste (por exemplo, 80% para treinamento e 20% para teste)\n",
    "X_train, X_test, y_train, y_test = train_test_split(X, y, test_size=0.2, random_state=42)"
   ]
  },
  {
   "cell_type": "code",
   "execution_count": 20,
   "metadata": {},
   "outputs": [],
   "source": [
    "# Transformar y_train e y_test em vetores unidimensionais\n",
    "y = y.values.ravel()\n",
    "y_train = y_train.values.ravel()\n",
    "y_test = y_test.values.ravel()"
   ]
  },
  {
   "cell_type": "code",
   "execution_count": null,
   "metadata": {},
   "outputs": [],
   "source": []
  },
  {
   "cell_type": "code",
   "execution_count": 21,
   "metadata": {},
   "outputs": [],
   "source": [
    "# Defina os modelos que você deseja testar\n",
    "models = {\n",
    "    'Decision Tree': DecisionTreeClassifier(),\n",
    "    'Random Forest': RandomForestClassifier(),\n",
    "    'SVM': SVC(),\n",
    "    'Logistic Regression': LogisticRegression()\n",
    "}\n",
    "\n",
    "# Defina os parâmetros que você deseja ajustar para cada modelo\n",
    "parameters = {\n",
    "    'Decision Tree': {'max_depth': [None, 2, 3, 4]},\n",
    "    'Random Forest': {'n_estimators': [50, 100, 200]},\n",
    "    'SVM': {'C': [0.1, 1, 10], 'gamma': [0.1, 0.01, 0.001]},\n",
    "    'Logistic Regression': {'C': [0.1, 1, 10]}\n",
    "}"
   ]
  },
  {
   "cell_type": "code",
   "execution_count": 22,
   "metadata": {},
   "outputs": [
    {
     "name": "stdout",
     "output_type": "stream",
     "text": [
      "Decision Tree: 0.978048780487805\n",
      "Random Forest: 0.9817073170731707\n",
      "SVM: 0.8780487804878048\n",
      "Logistic Regression: 0.85\n",
      "Melhor modelo: RandomForestClassifier(n_estimators=50)\n"
     ]
    }
   ],
   "source": [
    "best_model = None\n",
    "best_score = 0\n",
    "\n",
    "# Iterar sobre os modelos e parâmetros para encontrar o melhor modelo\n",
    "for model_name, model in models.items():\n",
    "    clf = GridSearchCV(model, parameters[model_name], cv=5)\n",
    "    clf.fit(X_train, y_train)\n",
    "    score = clf.best_score_\n",
    "    print(f\"{model_name}: {score}\")\n",
    "\n",
    "    if score > best_score:\n",
    "        best_model = clf.best_estimator_\n",
    "        best_score = score\n",
    "\n",
    "# O melhor modelo e seus parâmetros\n",
    "print(\"Melhor modelo:\", best_model)"
   ]
  }
 ],
 "metadata": {
  "kernelspec": {
   "display_name": "myenv",
   "language": "python",
   "name": "python3"
  },
  "language_info": {
   "codemirror_mode": {
    "name": "ipython",
    "version": 3
   },
   "file_extension": ".py",
   "mimetype": "text/x-python",
   "name": "python",
   "nbconvert_exporter": "python",
   "pygments_lexer": "ipython3",
   "version": "3.11.9"
  }
 },
 "nbformat": 4,
 "nbformat_minor": 2
}
